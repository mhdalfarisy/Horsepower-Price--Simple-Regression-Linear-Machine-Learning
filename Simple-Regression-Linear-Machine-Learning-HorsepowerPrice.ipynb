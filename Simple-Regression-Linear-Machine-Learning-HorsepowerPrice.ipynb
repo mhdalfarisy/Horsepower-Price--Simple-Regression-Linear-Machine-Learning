{
 "cells": [
  {
   "cell_type": "code",
   "execution_count": 24,
   "metadata": {},
   "outputs": [],
   "source": [
    "import pandas as pd\n",
    "import matplotlib.pyplot as plt\n",
    "import seaborn as sns\n",
    "from sklearn import linear_model\n",
    "from sklearn.model_selection import train_test_split\n",
    "from sklearn.metrics import r2_score"
   ]
  },
  {
   "cell_type": "code",
   "execution_count": 25,
   "metadata": {},
   "outputs": [
    {
     "data": {
      "text/html": [
       "<div>\n",
       "<style scoped>\n",
       "    .dataframe tbody tr th:only-of-type {\n",
       "        vertical-align: middle;\n",
       "    }\n",
       "\n",
       "    .dataframe tbody tr th {\n",
       "        vertical-align: top;\n",
       "    }\n",
       "\n",
       "    .dataframe thead th {\n",
       "        text-align: right;\n",
       "    }\n",
       "</style>\n",
       "<table border=\"1\" class=\"dataframe\">\n",
       "  <thead>\n",
       "    <tr style=\"text-align: right;\">\n",
       "      <th></th>\n",
       "      <th>Unnamed: 0</th>\n",
       "      <th>horsepower</th>\n",
       "      <th>price</th>\n",
       "    </tr>\n",
       "  </thead>\n",
       "  <tbody>\n",
       "    <tr>\n",
       "      <th>0</th>\n",
       "      <td>0</td>\n",
       "      <td>111.0</td>\n",
       "      <td>13495.0</td>\n",
       "    </tr>\n",
       "    <tr>\n",
       "      <th>1</th>\n",
       "      <td>1</td>\n",
       "      <td>111.0</td>\n",
       "      <td>16500.0</td>\n",
       "    </tr>\n",
       "    <tr>\n",
       "      <th>2</th>\n",
       "      <td>2</td>\n",
       "      <td>154.0</td>\n",
       "      <td>16500.0</td>\n",
       "    </tr>\n",
       "    <tr>\n",
       "      <th>3</th>\n",
       "      <td>3</td>\n",
       "      <td>102.0</td>\n",
       "      <td>13950.0</td>\n",
       "    </tr>\n",
       "    <tr>\n",
       "      <th>4</th>\n",
       "      <td>4</td>\n",
       "      <td>115.0</td>\n",
       "      <td>17450.0</td>\n",
       "    </tr>\n",
       "    <tr>\n",
       "      <th>...</th>\n",
       "      <td>...</td>\n",
       "      <td>...</td>\n",
       "      <td>...</td>\n",
       "    </tr>\n",
       "    <tr>\n",
       "      <th>195</th>\n",
       "      <td>200</td>\n",
       "      <td>114.0</td>\n",
       "      <td>16845.0</td>\n",
       "    </tr>\n",
       "    <tr>\n",
       "      <th>196</th>\n",
       "      <td>201</td>\n",
       "      <td>160.0</td>\n",
       "      <td>19045.0</td>\n",
       "    </tr>\n",
       "    <tr>\n",
       "      <th>197</th>\n",
       "      <td>202</td>\n",
       "      <td>134.0</td>\n",
       "      <td>21485.0</td>\n",
       "    </tr>\n",
       "    <tr>\n",
       "      <th>198</th>\n",
       "      <td>203</td>\n",
       "      <td>106.0</td>\n",
       "      <td>22470.0</td>\n",
       "    </tr>\n",
       "    <tr>\n",
       "      <th>199</th>\n",
       "      <td>204</td>\n",
       "      <td>114.0</td>\n",
       "      <td>22625.0</td>\n",
       "    </tr>\n",
       "  </tbody>\n",
       "</table>\n",
       "<p>200 rows × 3 columns</p>\n",
       "</div>"
      ],
      "text/plain": [
       "     Unnamed: 0  horsepower    price\n",
       "0             0       111.0  13495.0\n",
       "1             1       111.0  16500.0\n",
       "2             2       154.0  16500.0\n",
       "3             3       102.0  13950.0\n",
       "4             4       115.0  17450.0\n",
       "..          ...         ...      ...\n",
       "195         200       114.0  16845.0\n",
       "196         201       160.0  19045.0\n",
       "197         202       134.0  21485.0\n",
       "198         203       106.0  22470.0\n",
       "199         204       114.0  22625.0\n",
       "\n",
       "[200 rows x 3 columns]"
      ]
     },
     "execution_count": 25,
     "metadata": {},
     "output_type": "execute_result"
    }
   ],
   "source": [
    "# Membaca data csv\n",
    "df = pd.read_csv('data.csv')\n",
    "df"
   ]
  },
  {
   "cell_type": "code",
   "execution_count": 26,
   "metadata": {},
   "outputs": [],
   "source": [
    "# Menghapus kolom yang tidak di pakai\n",
    "df.drop(columns='Unnamed: 0',inplace=True)"
   ]
  },
  {
   "cell_type": "code",
   "execution_count": 27,
   "metadata": {},
   "outputs": [
    {
     "data": {
      "text/plain": [
       "horsepower    0\n",
       "price         0\n",
       "dtype: int64"
      ]
     },
     "execution_count": 27,
     "metadata": {},
     "output_type": "execute_result"
    }
   ],
   "source": [
    "# Mengecek Missing Values\n",
    "df.isna().sum()"
   ]
  },
  {
   "cell_type": "code",
   "execution_count": 28,
   "metadata": {},
   "outputs": [
    {
     "data": {
      "text/html": [
       "<div>\n",
       "<style scoped>\n",
       "    .dataframe tbody tr th:only-of-type {\n",
       "        vertical-align: middle;\n",
       "    }\n",
       "\n",
       "    .dataframe tbody tr th {\n",
       "        vertical-align: top;\n",
       "    }\n",
       "\n",
       "    .dataframe thead th {\n",
       "        text-align: right;\n",
       "    }\n",
       "</style>\n",
       "<table border=\"1\" class=\"dataframe\">\n",
       "  <thead>\n",
       "    <tr style=\"text-align: right;\">\n",
       "      <th></th>\n",
       "      <th>horsepower</th>\n",
       "      <th>price</th>\n",
       "    </tr>\n",
       "  </thead>\n",
       "  <tbody>\n",
       "    <tr>\n",
       "      <th>count</th>\n",
       "      <td>200.000000</td>\n",
       "      <td>200.000000</td>\n",
       "    </tr>\n",
       "    <tr>\n",
       "      <th>mean</th>\n",
       "      <td>103.320000</td>\n",
       "      <td>13230.375000</td>\n",
       "    </tr>\n",
       "    <tr>\n",
       "      <th>std</th>\n",
       "      <td>37.468615</td>\n",
       "      <td>7960.155239</td>\n",
       "    </tr>\n",
       "    <tr>\n",
       "      <th>min</th>\n",
       "      <td>48.000000</td>\n",
       "      <td>5118.000000</td>\n",
       "    </tr>\n",
       "    <tr>\n",
       "      <th>25%</th>\n",
       "      <td>70.000000</td>\n",
       "      <td>7775.000000</td>\n",
       "    </tr>\n",
       "    <tr>\n",
       "      <th>50%</th>\n",
       "      <td>95.000000</td>\n",
       "      <td>10320.000000</td>\n",
       "    </tr>\n",
       "    <tr>\n",
       "      <th>75%</th>\n",
       "      <td>116.000000</td>\n",
       "      <td>16500.750000</td>\n",
       "    </tr>\n",
       "    <tr>\n",
       "      <th>max</th>\n",
       "      <td>262.000000</td>\n",
       "      <td>45400.000000</td>\n",
       "    </tr>\n",
       "  </tbody>\n",
       "</table>\n",
       "</div>"
      ],
      "text/plain": [
       "       horsepower         price\n",
       "count  200.000000    200.000000\n",
       "mean   103.320000  13230.375000\n",
       "std     37.468615   7960.155239\n",
       "min     48.000000   5118.000000\n",
       "25%     70.000000   7775.000000\n",
       "50%     95.000000  10320.000000\n",
       "75%    116.000000  16500.750000\n",
       "max    262.000000  45400.000000"
      ]
     },
     "execution_count": 28,
     "metadata": {},
     "output_type": "execute_result"
    }
   ],
   "source": [
    "# Statistik descriptif\n",
    "df.describe()"
   ]
  },
  {
   "cell_type": "markdown",
   "metadata": {},
   "source": [
    "- Distribusi data horsepower"
   ]
  },
  {
   "cell_type": "code",
   "execution_count": 29,
   "metadata": {},
   "outputs": [
    {
     "data": {
      "image/png": "[encoded data removed]",
      "text/plain": [
       "<Figure size 1200x800 with 1 Axes>"
      ]
     },
     "metadata": {
      "needs_background": "light"
     },
     "output_type": "display_data"
    }
   ],
   "source": [
    "# Mengecek distribusi data\n",
    "plt.figure(figsize=(15,10),dpi=80)\n",
    "df['horsepower'].plot(kind='kde')\n",
    "plt.show()"
   ]
  },
  {
   "cell_type": "code",
   "execution_count": 30,
   "metadata": {},
   "outputs": [
    {
     "data": {
      "image/png": "[encoded data removed]",
      "text/plain": [
       "<Figure size 1200x800 with 1 Axes>"
      ]
     },
     "metadata": {
      "needs_background": "light"
     },
     "output_type": "display_data"
    }
   ],
   "source": [
    "# Mengecek distribusi data\n",
    "plt.figure(figsize=(15,10),dpi=80)\n",
    "plt.boxplot(df['horsepower'])\n",
    "plt.show()"
   ]
  },
  {
   "cell_type": "markdown",
   "metadata": {},
   "source": [
    "Jika di lihat dari grafik pertama mengenai horsepower data tidak berdistribusi normal, nilai meand dan median ada sekitar pada angka 100an, dan terdapat 3 outlier pada grafik kedua yang mana hal ini membuat data tidak berdistribusi normal."
   ]
  },
  {
   "cell_type": "markdown",
   "metadata": {},
   "source": [
    "- Distribusi data price"
   ]
  },
  {
   "cell_type": "code",
   "execution_count": 31,
   "metadata": {},
   "outputs": [
    {
     "data": {
      "image/png": "[encoded data removed]",
      "text/plain": [
       "<Figure size 1200x800 with 1 Axes>"
      ]
     },
     "metadata": {
      "needs_background": "light"
     },
     "output_type": "display_data"
    }
   ],
   "source": [
    "# Mengecek distribusi data\n",
    "plt.figure(figsize=(15,10),dpi=80)\n",
    "df['price'].plot(kind='kde')\n",
    "plt.show()"
   ]
  },
  {
   "cell_type": "code",
   "execution_count": 32,
   "metadata": {},
   "outputs": [
    {
     "data": {
      "image/png": "[encoded data removed]",
      "text/plain": [
       "<Figure size 1200x800 with 1 Axes>"
      ]
     },
     "metadata": {
      "needs_background": "light"
     },
     "output_type": "display_data"
    }
   ],
   "source": [
    "# Mengecek distribusi data\n",
    "plt.figure(figsize=(15,10),dpi=80)\n",
    "plt.boxplot(df['price'])\n",
    "plt.show()"
   ]
  },
  {
   "cell_type": "markdown",
   "metadata": {},
   "source": [
    "Jika dilihat dari  grafik pertama di atas mengenai kolom price, terdapat nilai mean dan median sekitar di atas 10.000 yang membuat data tidak berdistribusi normal selain itu terdapat banyak outlier pada kolom price di grafik kedua di atas."
   ]
  },
  {
   "cell_type": "code",
   "execution_count": 33,
   "metadata": {},
   "outputs": [
    {
     "data": {
      "image/png": "[encoded data removed]",
      "text/plain": [
       "<Figure size 432x288 with 1 Axes>"
      ]
     },
     "metadata": {
      "needs_background": "light"
     },
     "output_type": "display_data"
    }
   ],
   "source": [
    "plt.scatter(df['horsepower'], df['price'], color='red')\n",
    "plt.xlabel('Horsepower')\n",
    "plt.ylabel('Price')\n",
    "plt.title('Scatter Plot Horsepower vs Price')\n",
    "plt.show()"
   ]
  },
  {
   "cell_type": "markdown",
   "metadata": {},
   "source": [
    "Dari hasil grafik di atas, jika dilihat semakin tinggi nilai horsepower maka semakin tinggi price."
   ]
  },
  {
   "cell_type": "code",
   "execution_count": 34,
   "metadata": {},
   "outputs": [
    {
     "data": {
      "text/plain": [
       "<AxesSubplot:>"
      ]
     },
     "execution_count": 34,
     "metadata": {},
     "output_type": "execute_result"
    },
    {
     "data": {
      "image/png": "[encoded data removed]",
      "text/plain": [
       "<Figure size 432x288 with 2 Axes>"
      ]
     },
     "metadata": {
      "needs_background": "light"
     },
     "output_type": "display_data"
    }
   ],
   "source": [
    "sns.heatmap(df.corr(), annot=True)"
   ]
  },
  {
   "cell_type": "markdown",
   "metadata": {},
   "source": [
    "Jika dilihat disini nilai horsepower mendekati 1, dan nilai price sudah 1. Hal ini memberikan insight horspower memiliki hubungan/korelasi positif dengan price"
   ]
  },
  {
   "cell_type": "markdown",
   "metadata": {},
   "source": [
    "# Machine Learning"
   ]
  },
  {
   "cell_type": "markdown",
   "metadata": {},
   "source": [
    "### Membuat Model"
   ]
  },
  {
   "cell_type": "code",
   "execution_count": 35,
   "metadata": {},
   "outputs": [],
   "source": [
    "model = linear_model.LinearRegression()"
   ]
  },
  {
   "cell_type": "code",
   "execution_count": 36,
   "metadata": {},
   "outputs": [],
   "source": [
    "x = df['horsepower'].values.reshape(-1,1)\n",
    "y = df['price'].values.reshape(-1,1)"
   ]
  },
  {
   "cell_type": "code",
   "execution_count": 37,
   "metadata": {},
   "outputs": [],
   "source": [
    "# Membagi data , untuk latihan 80% dan untuk test 20%\n",
    "x_train,x_test,y_train,y_test = train_test_split(x,y, test_size=0.15,random_state=42)"
   ]
  },
  {
   "cell_type": "code",
   "execution_count": 38,
   "metadata": {},
   "outputs": [
    {
     "data": {
      "text/html": [
       "<style>#sk-container-id-2 {color: black;background-color: white;}#sk-container-id-2 pre{padding: 0;}#sk-container-id-2 div.sk-toggleable {background-color: white;}#sk-container-id-2 label.sk-toggleable__label {cursor: pointer;display: block;width: 100%;margin-bottom: 0;padding: 0.3em;box-sizing: border-box;text-align: center;}#sk-container-id-2 label.sk-toggleable__label-arrow:before {content: \"▸\";float: left;margin-right: 0.25em;color: #696969;}#sk-container-id-2 label.sk-toggleable__label-arrow:hover:before {color: black;}#sk-container-id-2 div.sk-estimator:hover label.sk-toggleable__label-arrow:before {color: black;}#sk-container-id-2 div.sk-toggleable__content {max-height: 0;max-width: 0;overflow: hidden;text-align: left;background-color: #f0f8ff;}#sk-container-id-2 div.sk-toggleable__content pre {margin: 0.2em;color: black;border-radius: 0.25em;background-color: #f0f8ff;}#sk-container-id-2 input.sk-toggleable__control:checked~div.sk-toggleable__content {max-height: 200px;max-width: 100%;overflow: auto;}#sk-container-id-2 input.sk-toggleable__control:checked~label.sk-toggleable__label-arrow:before {content: \"▾\";}#sk-container-id-2 div.sk-estimator input.sk-toggleable__control:checked~label.sk-toggleable__label {background-color: #d4ebff;}#sk-container-id-2 div.sk-label input.sk-toggleable__control:checked~label.sk-toggleable__label {background-color: #d4ebff;}#sk-container-id-2 input.sk-hidden--visually {border: 0;clip: rect(1px 1px 1px 1px);clip: rect(1px, 1px, 1px, 1px);height: 1px;margin: -1px;overflow: hidden;padding: 0;position: absolute;width: 1px;}#sk-container-id-2 div.sk-estimator {font-family: monospace;background-color: #f0f8ff;border: 1px dotted black;border-radius: 0.25em;box-sizing: border-box;margin-bottom: 0.5em;}#sk-container-id-2 div.sk-estimator:hover {background-color: #d4ebff;}#sk-container-id-2 div.sk-parallel-item::after {content: \"\";width: 100%;border-bottom: 1px solid gray;flex-grow: 1;}#sk-container-id-2 div.sk-label:hover label.sk-toggleable__label {background-color: #d4ebff;}#sk-container-id-2 div.sk-serial::before {content: \"\";position: absolute;border-left: 1px solid gray;box-sizing: border-box;top: 0;bottom: 0;left: 50%;z-index: 0;}#sk-container-id-2 div.sk-serial {display: flex;flex-direction: column;align-items: center;background-color: white;padding-right: 0.2em;padding-left: 0.2em;position: relative;}#sk-container-id-2 div.sk-item {position: relative;z-index: 1;}#sk-container-id-2 div.sk-parallel {display: flex;align-items: stretch;justify-content: center;background-color: white;position: relative;}#sk-container-id-2 div.sk-item::before, #sk-container-id-2 div.sk-parallel-item::before {content: \"\";position: absolute;border-left: 1px solid gray;box-sizing: border-box;top: 0;bottom: 0;left: 50%;z-index: -1;}#sk-container-id-2 div.sk-parallel-item {display: flex;flex-direction: column;z-index: 1;position: relative;background-color: white;}#sk-container-id-2 div.sk-parallel-item:first-child::after {align-self: flex-end;width: 50%;}#sk-container-id-2 div.sk-parallel-item:last-child::after {align-self: flex-start;width: 50%;}#sk-container-id-2 div.sk-parallel-item:only-child::after {width: 0;}#sk-container-id-2 div.sk-dashed-wrapped {border: 1px dashed gray;margin: 0 0.4em 0.5em 0.4em;box-sizing: border-box;padding-bottom: 0.4em;background-color: white;}#sk-container-id-2 div.sk-label label {font-family: monospace;font-weight: bold;display: inline-block;line-height: 1.2em;}#sk-container-id-2 div.sk-label-container {text-align: center;}#sk-container-id-2 div.sk-container {/* jupyter's `normalize.less` sets `[hidden] { display: none; }` but bootstrap.min.css set `[hidden] { display: none !important; }` so we also need the `!important` here to be able to override the default hidden behavior on the sphinx rendered scikit-learn.org. See: https://github.com/scikit-learn/scikit-learn/issues/21755 */display: inline-block !important;position: relative;}#sk-container-id-2 div.sk-text-repr-fallback {display: none;}</style><div id=\"sk-container-id-2\" class=\"sk-top-container\"><div class=\"sk-text-repr-fallback\"><pre>LinearRegression()</pre><b>In a Jupyter environment, please rerun this cell to show the HTML representation or trust the notebook. <br />On GitHub, the HTML representation is unable to render, please try loading this page with nbviewer.org.</b></div><div class=\"sk-container\" hidden><div class=\"sk-item\"><div class=\"sk-estimator sk-toggleable\"><input class=\"sk-toggleable__control sk-hidden--visually\" id=\"sk-estimator-id-2\" type=\"checkbox\" checked><label for=\"sk-estimator-id-2\" class=\"sk-toggleable__label sk-toggleable__label-arrow\">LinearRegression</label><div class=\"sk-toggleable__content\"><pre>LinearRegression()</pre></div></div></div></div></div>"
      ],
      "text/plain": [
       "LinearRegression()"
      ]
     },
     "execution_count": 38,
     "metadata": {},
     "output_type": "execute_result"
    }
   ],
   "source": [
    "model.fit(x_train,y_train)"
   ]
  },
  {
   "cell_type": "code",
   "execution_count": 39,
   "metadata": {},
   "outputs": [
    {
     "name": "stdout",
     "output_type": "stream",
     "text": [
      "[[154.21390709]]\n",
      "[-3054.39725362]\n"
     ]
    }
   ],
   "source": [
    "print(model.coef_)\n",
    "print(model.intercept_)"
   ]
  },
  {
   "cell_type": "code",
   "execution_count": 46,
   "metadata": {},
   "outputs": [
    {
     "name": "stdout",
     "output_type": "stream",
     "text": [
      "R-Squared: 0.6237436349154829\n"
     ]
    }
   ],
   "source": [
    "# Melihat score\n",
    "y_pred = model.predict(x_test)\n",
    "r_squared = r2_score(y_test,y_pred)\n",
    "print(f'R-Squared: {r_squared}')"
   ]
  },
  {
   "cell_type": "markdown",
   "metadata": {},
   "source": [
    "Model sudah selesai di buat namun score ke akuratan kecil sekitar 62% keakuratannya."
   ]
  },
  {
   "cell_type": "code",
   "execution_count": 41,
   "metadata": {},
   "outputs": [
    {
     "data": {
      "text/plain": [
       "Text(0.5, 1.0, 'Plot Horsepower vs Price')"
      ]
     },
     "execution_count": 41,
     "metadata": {},
     "output_type": "execute_result"
    },
    {
     "data": {
      "image/png": "[encoded data removed]",
      "text/plain": [
       "<Figure size 432x288 with 1 Axes>"
      ]
     },
     "metadata": {
      "needs_background": "light"
     },
     "output_type": "display_data"
    }
   ],
   "source": [
    "y_prediksi = model.predict(x_test)\n",
    "plt.scatter(x_test, y_test)\n",
    "plt.plot(x_test, y_prediksi, c='r')\n",
    "plt.xlabel('Horsepower')\n",
    "plt.ylabel('Price')\n",
    "plt.title('Plot Horsepower vs Price')"
   ]
  },
  {
   "cell_type": "markdown",
   "metadata": {},
   "source": [
    "### Mulai Memprediksi harga"
   ]
  },
  {
   "cell_type": "code",
   "execution_count": 42,
   "metadata": {},
   "outputs": [
    {
     "data": {
      "text/plain": [
       "array([[14063.35],\n",
       "       [14063.35],\n",
       "       [20694.54],\n",
       "       [12675.42],\n",
       "       [14680.2 ],\n",
       "       [13909.13],\n",
       "       [13909.13],\n",
       "       [13909.13],\n",
       "       [18535.55],\n",
       "       [12521.21],\n",
       "       [12521.21],\n",
       "       [15605.49],\n",
       "       [15605.49],\n",
       "       [15605.49],\n",
       "       [25012.53],\n",
       "       [25012.53],\n",
       "       [25012.53],\n",
       "       [ 4347.87],\n",
       "       [ 7740.58],\n",
       "       [ 7740.58],\n",
       "       [ 7432.15],\n",
       "       [ 7432.15],\n",
       "       [12675.42],\n",
       "       [ 7432.15],\n",
       "       [ 7432.15],\n",
       "       [ 7432.15],\n",
       "       [10516.43],\n",
       "       [19306.62],\n",
       "       [ 5890.01],\n",
       "       [ 8665.86],\n",
       "       [ 6198.44],\n",
       "       [ 8665.86],\n",
       "       [ 8665.86],\n",
       "       [ 8665.86],\n",
       "       [ 8665.86],\n",
       "       [10208.  ],\n",
       "       [10208.  ],\n",
       "       [10208.  ],\n",
       "       [10208.  ],\n",
       "       [12521.21],\n",
       "       [12366.99],\n",
       "       [ 8974.29],\n",
       "       [10824.85],\n",
       "       [24087.25],\n",
       "       [24087.25],\n",
       "       [37349.65],\n",
       "       [ 7432.15],\n",
       "       [ 7432.15],\n",
       "       [ 7432.15],\n",
       "       [ 7432.15],\n",
       "       [ 7432.15],\n",
       "       [12521.21],\n",
       "       [12521.21],\n",
       "       [12521.21],\n",
       "       [17764.48],\n",
       "       [ 9899.57],\n",
       "       [ 9899.57],\n",
       "       [ 9899.57],\n",
       "       [ 9899.57],\n",
       "       [ 6815.29],\n",
       "       [ 9899.57],\n",
       "       [15451.27],\n",
       "       [ 8049.  ],\n",
       "       [15913.91],\n",
       "       [15913.91],\n",
       "       [15913.91],\n",
       "       [15913.91],\n",
       "       [20848.76],\n",
       "       [20848.76],\n",
       "       [25320.96],\n",
       "       [25320.96],\n",
       "       [23933.04],\n",
       "       [ 7432.15],\n",
       "       [ 7432.15],\n",
       "       [ 7432.15],\n",
       "       [12675.42],\n",
       "       [14834.42],\n",
       "       [10516.43],\n",
       "       [19306.62],\n",
       "       [19306.62],\n",
       "       [19306.62],\n",
       "       [10516.43],\n",
       "       [10516.43],\n",
       "       [14834.42],\n",
       "       [14834.42],\n",
       "       [ 7586.36],\n",
       "       [ 5427.37],\n",
       "       [ 7586.36],\n",
       "       [ 7586.36],\n",
       "       [ 7586.36],\n",
       "       [ 7586.36],\n",
       "       [ 7586.36],\n",
       "       [ 7586.36],\n",
       "       [ 7586.36],\n",
       "       [ 7586.36],\n",
       "       [11904.35],\n",
       "       [11904.35],\n",
       "       [20386.12],\n",
       "       [20386.12],\n",
       "       [20386.12],\n",
       "       [21619.83],\n",
       "       [27788.38],\n",
       "       [21619.83],\n",
       "       [11904.35],\n",
       "       [11595.92],\n",
       "       [11904.35],\n",
       "       [11595.92],\n",
       "       [11595.92],\n",
       "       [11595.92],\n",
       "       [11595.92],\n",
       "       [11595.92],\n",
       "       [11904.35],\n",
       "       [11595.92],\n",
       "       [18843.98],\n",
       "       [ 7432.15],\n",
       "       [12675.42],\n",
       "       [ 7432.15],\n",
       "       [ 7432.15],\n",
       "       [ 7432.15],\n",
       "       [10516.43],\n",
       "       [19306.62],\n",
       "       [18998.19],\n",
       "       [28867.88],\n",
       "       [28867.88],\n",
       "       [28867.88],\n",
       "       [11595.92],\n",
       "       [11595.92],\n",
       "       [13909.13],\n",
       "       [13909.13],\n",
       "       [13909.13],\n",
       "       [13909.13],\n",
       "       [21619.83],\n",
       "       [21619.83],\n",
       "       [ 7586.36],\n",
       "       [ 8203.22],\n",
       "       [ 8203.22],\n",
       "       [ 9591.14],\n",
       "       [ 9591.14],\n",
       "       [11441.71],\n",
       "       [ 9591.14],\n",
       "       [14063.35],\n",
       "       [ 9591.14],\n",
       "       [11441.71],\n",
       "       [ 9591.14],\n",
       "       [14063.35],\n",
       "       [ 6506.86],\n",
       "       [ 6506.86],\n",
       "       [ 6506.86],\n",
       "       [ 6506.86],\n",
       "       [ 6506.86],\n",
       "       [ 6506.86],\n",
       "       [ 7740.58],\n",
       "       [ 7740.58],\n",
       "       [ 5581.58],\n",
       "       [ 5581.58],\n",
       "       [ 7740.58],\n",
       "       [ 7740.58],\n",
       "       [ 7740.58],\n",
       "       [ 7740.58],\n",
       "       [ 7740.58],\n",
       "       [14217.56],\n",
       "       [14217.56],\n",
       "       [14834.42],\n",
       "       [14834.42],\n",
       "       [14834.42],\n",
       "       [14834.42],\n",
       "       [14834.42],\n",
       "       [14834.42],\n",
       "       [11133.28],\n",
       "       [ 8203.22],\n",
       "       [11133.28],\n",
       "       [11133.28],\n",
       "       [11133.28],\n",
       "       [21774.04],\n",
       "       [21774.04],\n",
       "       [21002.97],\n",
       "       [21002.97],\n",
       "       [ 4964.73],\n",
       "       [10053.78],\n",
       "       [ 4964.73],\n",
       "       [10053.78],\n",
       "       [10053.78],\n",
       "       [ 7432.15],\n",
       "       [12366.99],\n",
       "       [10824.85],\n",
       "       [10824.85],\n",
       "       [13909.13],\n",
       "       [ 7432.15],\n",
       "       [10516.43],\n",
       "       [14525.99],\n",
       "       [14525.99],\n",
       "       [14525.99],\n",
       "       [14525.99],\n",
       "       [21928.26],\n",
       "       [21928.26],\n",
       "       [14525.99],\n",
       "       [21619.83],\n",
       "       [17610.27],\n",
       "       [13292.28],\n",
       "       [14525.99]])"
      ]
     },
     "execution_count": 42,
     "metadata": {},
     "output_type": "execute_result"
    }
   ],
   "source": [
    "model.predict(x).round(2)"
   ]
  },
  {
   "cell_type": "code",
   "execution_count": 43,
   "metadata": {},
   "outputs": [
    {
     "data": {
      "text/html": [
       "<div>\n",
       "<style scoped>\n",
       "    .dataframe tbody tr th:only-of-type {\n",
       "        vertical-align: middle;\n",
       "    }\n",
       "\n",
       "    .dataframe tbody tr th {\n",
       "        vertical-align: top;\n",
       "    }\n",
       "\n",
       "    .dataframe thead th {\n",
       "        text-align: right;\n",
       "    }\n",
       "</style>\n",
       "<table border=\"1\" class=\"dataframe\">\n",
       "  <thead>\n",
       "    <tr style=\"text-align: right;\">\n",
       "      <th></th>\n",
       "      <th>horsepower</th>\n",
       "      <th>price</th>\n",
       "      <th>Harga_prediksi</th>\n",
       "    </tr>\n",
       "  </thead>\n",
       "  <tbody>\n",
       "    <tr>\n",
       "      <th>0</th>\n",
       "      <td>111.0</td>\n",
       "      <td>13495.0</td>\n",
       "      <td>14063.346433</td>\n",
       "    </tr>\n",
       "    <tr>\n",
       "      <th>1</th>\n",
       "      <td>111.0</td>\n",
       "      <td>16500.0</td>\n",
       "      <td>14063.346433</td>\n",
       "    </tr>\n",
       "    <tr>\n",
       "      <th>2</th>\n",
       "      <td>154.0</td>\n",
       "      <td>16500.0</td>\n",
       "      <td>20694.544438</td>\n",
       "    </tr>\n",
       "    <tr>\n",
       "      <th>3</th>\n",
       "      <td>102.0</td>\n",
       "      <td>13950.0</td>\n",
       "      <td>12675.421270</td>\n",
       "    </tr>\n",
       "    <tr>\n",
       "      <th>4</th>\n",
       "      <td>115.0</td>\n",
       "      <td>17450.0</td>\n",
       "      <td>14680.202062</td>\n",
       "    </tr>\n",
       "    <tr>\n",
       "      <th>...</th>\n",
       "      <td>...</td>\n",
       "      <td>...</td>\n",
       "      <td>...</td>\n",
       "    </tr>\n",
       "    <tr>\n",
       "      <th>195</th>\n",
       "      <td>114.0</td>\n",
       "      <td>16845.0</td>\n",
       "      <td>14525.988155</td>\n",
       "    </tr>\n",
       "    <tr>\n",
       "      <th>196</th>\n",
       "      <td>160.0</td>\n",
       "      <td>19045.0</td>\n",
       "      <td>21619.827881</td>\n",
       "    </tr>\n",
       "    <tr>\n",
       "      <th>197</th>\n",
       "      <td>134.0</td>\n",
       "      <td>21485.0</td>\n",
       "      <td>17610.266297</td>\n",
       "    </tr>\n",
       "    <tr>\n",
       "      <th>198</th>\n",
       "      <td>106.0</td>\n",
       "      <td>22470.0</td>\n",
       "      <td>13292.276898</td>\n",
       "    </tr>\n",
       "    <tr>\n",
       "      <th>199</th>\n",
       "      <td>114.0</td>\n",
       "      <td>22625.0</td>\n",
       "      <td>14525.988155</td>\n",
       "    </tr>\n",
       "  </tbody>\n",
       "</table>\n",
       "<p>200 rows × 3 columns</p>\n",
       "</div>"
      ],
      "text/plain": [
       "     horsepower    price  Harga_prediksi\n",
       "0         111.0  13495.0    14063.346433\n",
       "1         111.0  16500.0    14063.346433\n",
       "2         154.0  16500.0    20694.544438\n",
       "3         102.0  13950.0    12675.421270\n",
       "4         115.0  17450.0    14680.202062\n",
       "..          ...      ...             ...\n",
       "195       114.0  16845.0    14525.988155\n",
       "196       160.0  19045.0    21619.827881\n",
       "197       134.0  21485.0    17610.266297\n",
       "198       106.0  22470.0    13292.276898\n",
       "199       114.0  22625.0    14525.988155\n",
       "\n",
       "[200 rows x 3 columns]"
      ]
     },
     "execution_count": 43,
     "metadata": {},
     "output_type": "execute_result"
    }
   ],
   "source": [
    "df['Harga_prediksi'] = model.predict(x)\n",
    "df"
   ]
  },
  {
   "cell_type": "code",
   "execution_count": 44,
   "metadata": {},
   "outputs": [
    {
     "data": {
      "text/html": [
       "<div>\n",
       "<style scoped>\n",
       "    .dataframe tbody tr th:only-of-type {\n",
       "        vertical-align: middle;\n",
       "    }\n",
       "\n",
       "    .dataframe tbody tr th {\n",
       "        vertical-align: top;\n",
       "    }\n",
       "\n",
       "    .dataframe thead th {\n",
       "        text-align: right;\n",
       "    }\n",
       "</style>\n",
       "<table border=\"1\" class=\"dataframe\">\n",
       "  <thead>\n",
       "    <tr style=\"text-align: right;\">\n",
       "      <th></th>\n",
       "      <th>horsepower</th>\n",
       "      <th>price</th>\n",
       "      <th>Harga_prediksi</th>\n",
       "      <th>Error</th>\n",
       "    </tr>\n",
       "  </thead>\n",
       "  <tbody>\n",
       "    <tr>\n",
       "      <th>0</th>\n",
       "      <td>111.0</td>\n",
       "      <td>13495.0</td>\n",
       "      <td>14063.346433</td>\n",
       "      <td>-568.346433</td>\n",
       "    </tr>\n",
       "    <tr>\n",
       "      <th>1</th>\n",
       "      <td>111.0</td>\n",
       "      <td>16500.0</td>\n",
       "      <td>14063.346433</td>\n",
       "      <td>2436.653567</td>\n",
       "    </tr>\n",
       "    <tr>\n",
       "      <th>2</th>\n",
       "      <td>154.0</td>\n",
       "      <td>16500.0</td>\n",
       "      <td>20694.544438</td>\n",
       "      <td>-4194.544438</td>\n",
       "    </tr>\n",
       "    <tr>\n",
       "      <th>3</th>\n",
       "      <td>102.0</td>\n",
       "      <td>13950.0</td>\n",
       "      <td>12675.421270</td>\n",
       "      <td>1274.578730</td>\n",
       "    </tr>\n",
       "    <tr>\n",
       "      <th>4</th>\n",
       "      <td>115.0</td>\n",
       "      <td>17450.0</td>\n",
       "      <td>14680.202062</td>\n",
       "      <td>2769.797938</td>\n",
       "    </tr>\n",
       "    <tr>\n",
       "      <th>...</th>\n",
       "      <td>...</td>\n",
       "      <td>...</td>\n",
       "      <td>...</td>\n",
       "      <td>...</td>\n",
       "    </tr>\n",
       "    <tr>\n",
       "      <th>195</th>\n",
       "      <td>114.0</td>\n",
       "      <td>16845.0</td>\n",
       "      <td>14525.988155</td>\n",
       "      <td>2319.011845</td>\n",
       "    </tr>\n",
       "    <tr>\n",
       "      <th>196</th>\n",
       "      <td>160.0</td>\n",
       "      <td>19045.0</td>\n",
       "      <td>21619.827881</td>\n",
       "      <td>-2574.827881</td>\n",
       "    </tr>\n",
       "    <tr>\n",
       "      <th>197</th>\n",
       "      <td>134.0</td>\n",
       "      <td>21485.0</td>\n",
       "      <td>17610.266297</td>\n",
       "      <td>3874.733703</td>\n",
       "    </tr>\n",
       "    <tr>\n",
       "      <th>198</th>\n",
       "      <td>106.0</td>\n",
       "      <td>22470.0</td>\n",
       "      <td>13292.276898</td>\n",
       "      <td>9177.723102</td>\n",
       "    </tr>\n",
       "    <tr>\n",
       "      <th>199</th>\n",
       "      <td>114.0</td>\n",
       "      <td>22625.0</td>\n",
       "      <td>14525.988155</td>\n",
       "      <td>8099.011845</td>\n",
       "    </tr>\n",
       "  </tbody>\n",
       "</table>\n",
       "<p>200 rows × 4 columns</p>\n",
       "</div>"
      ],
      "text/plain": [
       "     horsepower    price  Harga_prediksi        Error\n",
       "0         111.0  13495.0    14063.346433  -568.346433\n",
       "1         111.0  16500.0    14063.346433  2436.653567\n",
       "2         154.0  16500.0    20694.544438 -4194.544438\n",
       "3         102.0  13950.0    12675.421270  1274.578730\n",
       "4         115.0  17450.0    14680.202062  2769.797938\n",
       "..          ...      ...             ...          ...\n",
       "195       114.0  16845.0    14525.988155  2319.011845\n",
       "196       160.0  19045.0    21619.827881 -2574.827881\n",
       "197       134.0  21485.0    17610.266297  3874.733703\n",
       "198       106.0  22470.0    13292.276898  9177.723102\n",
       "199       114.0  22625.0    14525.988155  8099.011845\n",
       "\n",
       "[200 rows x 4 columns]"
      ]
     },
     "execution_count": 44,
     "metadata": {},
     "output_type": "execute_result"
    }
   ],
   "source": [
    "df['Error'] = df['price'] - df['Harga_prediksi']\n",
    "df"
   ]
  },
  {
   "cell_type": "markdown",
   "metadata": {},
   "source": [
    "Kesimpulan pembuatan model machine learning :\n",
    "- Proses pembuatan model regeresi linear memiliki sedikit score yaitu 62%\n",
    "- Ketika di lakukan prediksi harga model berdasarkan variabel x yaitu horsepower banyak nilai prediksi yang memiliki selisih jauh. Nilai selisih ini dapat di lihat pada kolom error\n",
    "- Jika score regeresi linear diatas 80% persen maka ini mendekati 100% artinya semakin kecil error/selisih yang di hasilkan dari prediksi dan semakin bagus"
   ]
  }
 ],
 "metadata": {
  "kernelspec": {
   "display_name": "Python 3.10.4 64-bit",
   "language": "python",
   "name": "python3"
  },
  "language_info": {
   "codemirror_mode": {
    "name": "ipython",
    "version": 3
   },
   "file_extension": ".py",
   "mimetype": "text/x-python",
   "name": "python",
   "nbconvert_exporter": "python",
   "pygments_lexer": "ipython3",
   "version": "3.10.4"
  },
  "orig_nbformat": 4,
  "vscode": {
   "interpreter": {
    "hash": "0d72b21489300652f2337cd7f80c57cc00ce6bbc92cf98d285c178d0a8ced433"
   }
  }
 },
 "nbformat": 4,
 "nbformat_minor": 2
}
